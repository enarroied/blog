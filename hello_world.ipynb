{
 "cells": [
  {
   "cell_type": "raw",
   "id": "23a987f8-0096-4137-b253-db2196692b45",
   "metadata": {},
   "source": [
    ".. :og:image: \"https://ericnarrodata.com/_static/images/caudeau.JPG\n",
    ".. post:: 23 Apr 2023\n",
    "    :category: Blog"
   ]
  },
  {
   "cell_type": "markdown",
   "id": "f16e883c-cc94-4cef-829f-32a71849451f",
   "metadata": {
    "tags": []
   },
   "source": [
    "# Hello you all, in this World! 🌍"
   ]
  },
  {
   "cell_type": "markdown",
   "id": "3cca162b-1e1a-4dc4-b947-86b51d8b771e",
   "metadata": {},
   "source": [
    "This is my first post in this blog! I created this web page using sphinx with [pydata](https://pydata.org/) an [Ablog](https://ablog.readthedocs.io/en/stable/) themes.\n",
    "\n",
    "I want to thank Chris Holdgraf, because I really got a big part of the setup from his blog, [you should check it up!](https://chrisholdgraf.com/)\n",
    "\n",
    "I probably will do a recap on how i did this blog page, but for a first blog post, I want to tell you what I wanted:\n",
    "* **A simple static website**: I have really thought about this, I have considered doing a [django](https://www.djangoproject.com/) website or even better, a [wagtail](https://wagtail.org/) site (wagtail is a CMS based on django). But I think it would add too much complexity. If I want to create applications I will probably use Plotly Dash, Taipy, Datapane, Streamlit... And having a django website won't help me much there either. Static is fine, I can always add some dynamism with JavaScript-based \n",
    "* **A website done with python**: I like python.\n",
    "* **A website where I can host (jupyter) notebooks**: This was the huge main reason to go for this setup (and the reason I considered wagtail was because [The Data Frog blog](https://thedatafrog.com/fr/) uses it, with Jupyter Notebooks (if you are into Machine learning and/or data analysis with python, I really recomend you check it out!).\n",
    "\n",
    "After some research, I found out Chris Holdgraf's blog, and here are some extra reasons for this setup that came after:\n",
    "\n",
    "* **Sphinx**: I discovered Sphinx recently ([I wrote about it in the Medium post I did about the Pycon Fr 2023](https://medium.com/better-programming/notes-from-pycon-fr-2023-convention-part-1-52b1e44214c8#0e8d)). I wanted to master it, along with other related technologies, like [Jupyter Book](https://jupyterbook.org/en/stable/intro.html).\n",
    "* **Markdown**: Sphinx default is ReStructuredText (rst files). But using MyST Markdown (and [MyST-NB, for notebooks](https://myst-nb.readthedocs.io/en/latest/index.html)) makes writing and integrating links very easy.\n",
    "* **An easy workflow**: Like a water in a river, it should be easy and **fast** to write, create the blog post and deploy it."
   ]
  },
  {
   "cell_type": "markdown",
   "id": "de0c2ac7-c0c1-4cfb-94ca-b269e3ca1ea4",
   "metadata": {},
   "source": [
    "## Flowing like a river\n",
    "\n",
    "As you can see below, it is very easy to add an image to my blog post. In this case, it is a small river I have close to home, with its water flowing smoothly, like the process of creating blog posts with this setup!.\n",
    "\n",
    "<img src=\"../../_static/images/caudeau.JPG\" title=\"The river next to my home\" alt=\"River Image\"/>"
   ]
  },
  {
   "cell_type": "markdown",
   "id": "0270a92d-31de-43a3-9a1a-5134f014108a",
   "metadata": {},
   "source": [
    "## Using jupyter Notebooks to blog: A great way to write about Data Analysis\n",
    "\n",
    "Being able to write code and display the result, easely, is a huge advantage. Jupyter Notebooks is a very common tool, I personally use it a lot (and you can use other tools, like Visual Studio Code to display your .ipynb files). For example, I can do a a python \"Hello World\" for my Hello World post right here:"
   ]
  },
  {
   "cell_type": "code",
   "execution_count": 1,
   "id": "b1b31eb1-ddc9-40ac-b9dc-75be20a8d867",
   "metadata": {},
   "outputs": [
    {
     "name": "stdout",
     "output_type": "stream",
     "text": [
      "Hello World!🌍\n"
     ]
    }
   ],
   "source": [
    "print(\"Hello World!🌍\")"
   ]
  },
  {
   "cell_type": "markdown",
   "id": "d07798d8-55c0-4cea-9f72-a424e6fec7d2",
   "metadata": {},
   "source": [
    "## Why I created this blog\n",
    "\n",
    "I really like programming (with python or other languages) and I love working with data. But the ultimate goal of analyzing data, finding insights, is to communicate about it!\n",
    "\n",
    "I recently started writing on [Medium](https://medium.com/@ericnarro), so I will give a different approach to both spaces (and other eventual spaces where I could create content, like on [youtube](https://www.youtube.com/@ericnarro/featured), social media, etc...). So here are a few differences I have in mind:\n",
    "\n",
    "* My personal blog is also a portfolio, it centralizes all my other other accounts\n",
    "* My blog will have a more technical approach (tutorials, code). On Medium I write reviews, give thoughts, etc\n",
    "* I will probably integrate content and make it interact. For example, a tutorial could have a video version on youtube, a written description with code snippets on the website and a review on Medium...\n",
    "\n",
    "All these are thoughts, I am just starting this and it will probably evolve over time!\n",
    "\n",
    "Thank you for reading, do not hesitate to contact me or leave comments if you have any suggestions!"
   ]
  }
 ],
 "metadata": {
  "category": "Blog",
  "date": "2023-04-23",
  "kernelspec": {
   "display_name": "Python 3 (ipykernel)",
   "language": "python",
   "name": "python3"
  },
  "language_info": {
   "codemirror_mode": {
    "name": "ipython",
    "version": 3
   },
   "file_extension": ".py",
   "mimetype": "text/x-python",
   "name": "python",
   "nbconvert_exporter": "python",
   "pygments_lexer": "ipython3",
   "version": "3.10.10"
  }
 },
 "nbformat": 4,
 "nbformat_minor": 5
}
